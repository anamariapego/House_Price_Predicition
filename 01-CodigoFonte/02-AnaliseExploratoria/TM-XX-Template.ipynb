{
 "cells": [
  {
   "cell_type": "markdown",
   "metadata": {
    "id": "lECC1grFKX2X"
   },
   "source": [
    "<div class=\"alert alert-block alert-info\"><font size=\"5\">\n",
    "<b>Notebook Description: </font><font size=\"4\"></b>Descrição geral do notebook. Objetivo da criação, resultados esperados e breve change-log por data de alteração: Exemplo:</font>\n",
    "    <br><br>\n",
    "    <font size=\"4\"><p style=\"color:red\"><i><b>\n",
    "CHANGE-LOG\n",
    "    </b></i> </p></font>\n",
    "\n",
    "<font size=\"4\">\n",
    "<ul>\n",
    "  <li><b>2022-05-22 - Carga de dados através de query no BigQuery </b><i>(Note que a mudança mais atual sempre está em negrito)</i></li>\n",
    "  <li>2022-05-20 - Criação do Notebook</li>\n",
    "</ul>    \n",
    "\n",
    "\n",
    "</div>"
   ]
  },
  {
   "cell_type": "markdown",
   "metadata": {
    "id": "ClbIEy44KX2X"
   },
   "source": [
    "<font size=\"6\"><a id=\"sumario\"><bold>Summary</bold></a></font>\n",
    "***\n",
    ">1. [Sessão 1](#ses1)\n",
    ">2. [Sessão 2](#ses2)\n",
    "    >>2.1. [Sub Sessão 2.1](#subses21)<br>\n",
    "    >>2.2. [Sub Sessão 2.2](#subses22)\n",
    ">3. [Sessão 3](#ses3)\n",
    "    >>3.1 [Sub Sessão 3.1](#subses31)"
   ]
  },
  {
   "cell_type": "markdown",
   "metadata": {
    "id": "xmvadVssKX2X"
   },
   "source": [
    "***\n",
    "<font size=\"6\"><a id=\"ses1\">1. Sessão 1</a></font>\n",
    "***\n",
    "[VOLTAR](#sumario)"
   ]
  },
  {
   "cell_type": "markdown",
   "metadata": {
    "id": "pzUeufb2KX2X"
   },
   "source": [
    "<div class=\"alert alert-block alert-success\">\n",
    "<b>Section Description: </b> Descrição da sessão, seu objetivo e resultados/saídas esperadas. Geralmente iniciamos todo notebook com a Sessão 1 sendo os pacotes a serem utilizados no código (imports). Para os índices das sessões, é importante ajustar o id <b>&lt;a id=\"ses1\">Sessão 1 /a&gt;</b> com a chave que foi colocado no sumário <b>[Sessão 1](#ses1)</b> para garantir o funcionamento do Link.\n",
    "</div>"
   ]
  },
  {
   "cell_type": "markdown",
   "metadata": {
    "id": "YFXDzUJNKX2Y"
   },
   "source": [
    "***\n",
    "<font size=\"6\"><a id=\"ses2\">2. Sessão 2</a></font>\n",
    "***\n",
    "[VOLTAR](#sumario)"
   ]
  },
  {
   "cell_type": "markdown",
   "metadata": {},
   "source": [
    "<div class=\"alert alert-block alert-success\">\n",
    "<b>Section Description: </b> Descrição da sessão, seu objetivo e resultados/saídas esperadas. Geralmente iniciamos todo notebook com a Sessão 1 sendo os pacotes a serem utilizados no código (imports). Para os índices das sessões, é importante ajustar o id <b>&lt;a id=\"ses2\">Sessão 2 /a&gt;</b> com a chave que foi colocado no sumário <b>[Sessão 2](#ses2)</b> para garantir o funcionamento do Link.\n",
    "</div>"
   ]
  },
  {
   "cell_type": "markdown",
   "metadata": {
    "id": "s5PtrHTFKX2Y"
   },
   "source": [
    "***\n",
    "<font size=\"6\"><a id=\"ses21\">2.1 Sub Sessão 2.1</a></font>\n",
    "***\n",
    "[VOLTAR](#sumario)"
   ]
  },
  {
   "cell_type": "markdown",
   "metadata": {
    "id": "ObVWNVuSKX2Y"
   },
   "source": [
    "<div class=\"alert alert-block alert-success\">\n",
    "<b>Section Description: </b> Descrição da sub sessão nos mesmo moldes da sessão.\n",
    "</div>"
   ]
  },
  {
   "cell_type": "markdown",
   "metadata": {
    "id": "KqGkB01yKX2f"
   },
   "source": [
    "<div class=\"alert alert-warning\">\n",
    "<b>Insights/Results: </b> Descrição dos insights e/ou resultados alcançados pela Sessão. Podem haver 1 ou mais linhas com estes resultados em uma única sessão. \n",
    "</div>"
   ]
  },
  {
   "cell_type": "markdown",
   "metadata": {},
   "source": [
    "<div class=\"alert alert-block alert-danger\">\n",
    "<b>Errors/ToDo: </b> Descrição de erros e ou tarefas que precisam ser resolvidos ou tratadas para cada linha de execução que necessitar dessa informação.\n",
    "</div>"
   ]
  }
 ],
 "metadata": {
  "colab": {
   "name": "AE-01-TemposEntrada_x_Saida-FIAPE.ipynb",
   "provenance": []
  },
  "kernelspec": {
   "display_name": "Python 3 (ipykernel)",
   "language": "python",
   "name": "python3"
  },
  "language_info": {
   "codemirror_mode": {
    "name": "ipython",
    "version": 3
   },
   "file_extension": ".py",
   "mimetype": "text/x-python",
   "name": "python",
   "nbconvert_exporter": "python",
   "pygments_lexer": "ipython3",
   "version": "3.10.8"
  }
 },
 "nbformat": 4,
 "nbformat_minor": 4
}
